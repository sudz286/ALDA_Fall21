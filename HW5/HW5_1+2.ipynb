{
  "nbformat": 4,
  "nbformat_minor": 0,
  "metadata": {
    "colab": {
      "name": "HW5_2.ipynb",
      "provenance": [],
      "collapsed_sections": []
    },
    "kernelspec": {
      "name": "python3",
      "display_name": "Python 3"
    },
    "language_info": {
      "name": "python"
    }
  },
  "cells": [
    {
      "cell_type": "code",
      "metadata": {
        "id": "VxA95cZa9pqt",
        "colab": {
          "base_uri": "https://localhost:8080/",
          "height": 394
        },
        "outputId": "4976bd6c-cbc8-46fb-9366-883f12470bff"
      },
      "source": [
        "import pandas as pd\n",
        "points = {'A' :(-9, -3), 'B':(-6, 1), 'C':(-5, 3), 'D' :(0, -1), 'E' :(-8, 0), 'F' :(-2, -1), 'G':(-4, 2), 'H':(-10, -1), 'I':(-4, -2), 'J':(0, -2), 'K':(-7, -4)}\n",
        "df = pd.DataFrame.from_dict(points, orient= 'index',columns=['x','y'])\n",
        "df"
      ],
      "execution_count": 80,
      "outputs": [
        {
          "output_type": "execute_result",
          "data": {
            "text/html": [
              "<div>\n",
              "<style scoped>\n",
              "    .dataframe tbody tr th:only-of-type {\n",
              "        vertical-align: middle;\n",
              "    }\n",
              "\n",
              "    .dataframe tbody tr th {\n",
              "        vertical-align: top;\n",
              "    }\n",
              "\n",
              "    .dataframe thead th {\n",
              "        text-align: right;\n",
              "    }\n",
              "</style>\n",
              "<table border=\"1\" class=\"dataframe\">\n",
              "  <thead>\n",
              "    <tr style=\"text-align: right;\">\n",
              "      <th></th>\n",
              "      <th>x</th>\n",
              "      <th>y</th>\n",
              "    </tr>\n",
              "  </thead>\n",
              "  <tbody>\n",
              "    <tr>\n",
              "      <th>A</th>\n",
              "      <td>-9</td>\n",
              "      <td>-3</td>\n",
              "    </tr>\n",
              "    <tr>\n",
              "      <th>B</th>\n",
              "      <td>-6</td>\n",
              "      <td>1</td>\n",
              "    </tr>\n",
              "    <tr>\n",
              "      <th>C</th>\n",
              "      <td>-5</td>\n",
              "      <td>3</td>\n",
              "    </tr>\n",
              "    <tr>\n",
              "      <th>D</th>\n",
              "      <td>0</td>\n",
              "      <td>-1</td>\n",
              "    </tr>\n",
              "    <tr>\n",
              "      <th>E</th>\n",
              "      <td>-8</td>\n",
              "      <td>0</td>\n",
              "    </tr>\n",
              "    <tr>\n",
              "      <th>F</th>\n",
              "      <td>-2</td>\n",
              "      <td>-1</td>\n",
              "    </tr>\n",
              "    <tr>\n",
              "      <th>G</th>\n",
              "      <td>-4</td>\n",
              "      <td>2</td>\n",
              "    </tr>\n",
              "    <tr>\n",
              "      <th>H</th>\n",
              "      <td>-10</td>\n",
              "      <td>-1</td>\n",
              "    </tr>\n",
              "    <tr>\n",
              "      <th>I</th>\n",
              "      <td>-4</td>\n",
              "      <td>-2</td>\n",
              "    </tr>\n",
              "    <tr>\n",
              "      <th>J</th>\n",
              "      <td>0</td>\n",
              "      <td>-2</td>\n",
              "    </tr>\n",
              "    <tr>\n",
              "      <th>K</th>\n",
              "      <td>-7</td>\n",
              "      <td>-4</td>\n",
              "    </tr>\n",
              "  </tbody>\n",
              "</table>\n",
              "</div>"
            ],
            "text/plain": [
              "    x  y\n",
              "A  -9 -3\n",
              "B  -6  1\n",
              "C  -5  3\n",
              "D   0 -1\n",
              "E  -8  0\n",
              "F  -2 -1\n",
              "G  -4  2\n",
              "H -10 -1\n",
              "I  -4 -2\n",
              "J   0 -2\n",
              "K  -7 -4"
            ]
          },
          "metadata": {},
          "execution_count": 80
        }
      ]
    },
    {
      "cell_type": "code",
      "metadata": {
        "colab": {
          "base_uri": "https://localhost:8080/",
          "height": 265
        },
        "id": "IMORzMiZMdkT",
        "outputId": "25ba9f7f-9a29-4301-8ae2-4353c8de02df"
      },
      "source": [
        "import matplotlib.pyplot as plt\n",
        "for index,row in df.iterrows():\n",
        "  plt.scatter(row['x'], row['y'], c = 'blue')"
      ],
      "execution_count": null,
      "outputs": [
        {
          "output_type": "display_data",
          "data": {
            "image/png": "[encoded data removed]",
            "text/plain": [
              "<Figure size 432x288 with 1 Axes>"
            ]
          },
          "metadata": {
            "needs_background": "light"
          }
        }
      ]
    },
    {
      "cell_type": "code",
      "metadata": {
        "id": "ypfCeJtANbgM"
      },
      "source": [
        "from sklearn.metrics.pairwise import euclidean_distances\n",
        "\n",
        "mat = euclidean_distances(df)\n",
        "\n",
        "euc_matrix = pd.DataFrame(mat, columns = df.index)\n",
        "\n",
        "# from google.colab import files\n",
        "# euc_matrix.to_csv('euc_mat.csv')\n",
        "# files.download('euc_mat.csv')"
      ],
      "execution_count": null,
      "outputs": []
    },
    {
      "cell_type": "code",
      "metadata": {
        "colab": {
          "base_uri": "https://localhost:8080/",
          "height": 284
        },
        "id": "x0dNq8YFQIX8",
        "outputId": "50c336d1-135e-4d54-b020-21b9a674d144"
      },
      "source": [
        "from scipy.cluster.hierarchy import dendrogram, linkage\n",
        "from scipy.spatial.distance import squareform\n",
        "\n",
        "dists = squareform(mat)\n",
        "# After performing complete link analysis manually, we observe that scipy's dendogram gives us the wrong answer for complete link hierarchy\n",
        "linkage_matrix = linkage(dists, \"complete\")\n",
        "\n",
        "dendrogram(linkage_matrix, labels=[\"A\",\"B\",\"C\",\"D\",\"E\",\"F\",\"G\",\"H\",\"I\",\"J\",\"K\"])\n",
        "\n",
        "plt.title(\"Complete Link\")\n",
        "plt.show()"
      ],
      "execution_count": 82,
      "outputs": [
        {
          "output_type": "display_data",
          "data": {
            "image/png": "[encoded data removed]",
            "text/plain": [
              "<Figure size 432x288 with 1 Axes>"
            ]
          },
          "metadata": {
            "needs_background": "light"
          }
        }
      ]
    },
    {
      "cell_type": "code",
      "metadata": {
        "colab": {
          "base_uri": "https://localhost:8080/",
          "height": 284
        },
        "id": "lg3a8jgiLdBN",
        "outputId": "25b400ad-f23a-400d-b8bb-3b6f58b071bc"
      },
      "source": [
        "linkage_matrix = linkage(dists, \"single\")\n",
        "\n",
        "dendrogram(linkage_matrix, labels=[\"A\",\"B\",\"C\",\"D\",\"E\",\"F\",\"G\",\"H\",\"I\",\"J\",\"K\"])\n",
        "\n",
        "plt.title(\"Single Link\")\n",
        "plt.show()"
      ],
      "execution_count": 83,
      "outputs": [
        {
          "output_type": "display_data",
          "data": {
            "image/png": "[encoded data removed]",
            "text/plain": [
              "<Figure size 432x288 with 1 Axes>"
            ]
          },
          "metadata": {
            "needs_background": "light"
          }
        }
      ]
    },
    {
      "cell_type": "code",
      "metadata": {
        "colab": {
          "base_uri": "https://localhost:8080/"
        },
        "id": "Zx1KzQsqjZCj",
        "outputId": "29e0e4c1-b441-4c57-aea6-26aac5a98964"
      },
      "source": [
        "import numpy as np\n",
        "# Function to determine centroid of a cluster\n",
        "def find_centroid(df):\n",
        "  x_sum = df['x'].sum()\n",
        "  y_sum = df['y'].sum()\n",
        "  centroid = [x_sum/len(df), y_sum/len(df)]\n",
        "  return centroid\n",
        "\n",
        "# Function to find Sum of Squared Error\n",
        "def SSE(cluster,cent):\n",
        "  err = 0\n",
        "  cent1 =  np.array(cent)\n",
        "  x = euclidean_distances(cluster,cent1.reshape(1,-1)) ** 2\n",
        "  for val in x:\n",
        "    err += val\n",
        "  return err"
      ],
      "execution_count": 78,
      "outputs": [
        {
          "output_type": "stream",
          "name": "stdout",
          "text": [
            "[-8.5, -2.0] [-4.75, 1.0] [-0.6666666666666666, -1.3333333333333333]\n",
            "Cluster 1 SSE:  [15.]\n",
            "Cluster 2 SSE:  [16.75]\n",
            "Cluster 3 SSE:  [3.33333333]\n",
            "Total Error  :  [35.08333333]\n"
          ]
        }
      ]
    },
    {
      "cell_type": "code",
      "metadata": {
        "colab": {
          "base_uri": "https://localhost:8080/"
        },
        "id": "IZZwOpK-OoSu",
        "outputId": "63e5494d-c89d-472f-cac8-445453e3ccb0"
      },
      "source": [
        "# SSE for K-Means\n",
        "cluster_1 = df.iloc[[0,4,7,10]] # AEHK\n",
        "cluster_2 = df.iloc[[1,2,6,8]] # BCGI\n",
        "cluster_3 = df.iloc[[3,5,9]] # DFJ\n",
        "\n",
        "cent_1 = find_centroid(cluster_1)\n",
        "cent_2 = find_centroid(cluster_2)\n",
        "cent_3 = find_centroid(cluster_3)\n",
        "\n",
        "print(cent_1,cent_2,cent_3)\n",
        "\n",
        "print(\"Cluster 1 SSE: \", SSE(cluster_1,cent_1))\n",
        "print(\"Cluster 2 SSE: \", SSE(cluster_2,cent_2))\n",
        "print(\"Cluster 3 SSE: \", SSE(cluster_3,cent_3))\n",
        "\n",
        "print(\"Total Error  : \", SSE(cluster_1,cent_1) + SSE(cluster_2,cent_2) + SSE(cluster_3,cent_3))"
      ],
      "execution_count": 84,
      "outputs": [
        {
          "output_type": "stream",
          "name": "stdout",
          "text": [
            "[-8.5, -2.0] [-4.75, 1.0] [-0.6666666666666666, -1.3333333333333333]\n",
            "Cluster 1 SSE:  [15.]\n",
            "Cluster 2 SSE:  [16.75]\n",
            "Cluster 3 SSE:  [3.33333333]\n",
            "Total Error  :  [35.08333333]\n"
          ]
        }
      ]
    },
    {
      "cell_type": "code",
      "metadata": {
        "id": "TfFwPDciLg9E",
        "colab": {
          "base_uri": "https://localhost:8080/"
        },
        "outputId": "8f1fb853-7060-461a-c51a-14cca4c46631"
      },
      "source": [
        "# SSE for Single Link cluster\n",
        "cluster_1 = df.iloc[[0,1,2,4,6,7,10]] # ABCEGHK\n",
        "cluster_2 = df.iloc[[8]] # I\n",
        "cluster_3 = df.iloc[[3,5,9]] # DFJ\n",
        "\n",
        "cent_1 = find_centroid(cluster_1)\n",
        "cent_2 = find_centroid(cluster_2)\n",
        "cent_3 = find_centroid(cluster_3)\n",
        "\n",
        "print(cent_1,cent_2,cent_3)\n",
        "\n",
        "print(\"Cluster 1 SSE: \", SSE(cluster_1,cent_1))\n",
        "print(\"Cluster 2 SSE: \", SSE(cluster_2,cent_2))\n",
        "print(\"Cluster 3 SSE: \", SSE(cluster_3,cent_3))\n",
        "\n",
        "print(\"Total Error  : \", SSE(cluster_1,cent_1) + SSE(cluster_2,cent_2) + SSE(cluster_3,cent_3))"
      ],
      "execution_count": 85,
      "outputs": [
        {
          "output_type": "stream",
          "name": "stdout",
          "text": [
            "[-7.0, -0.2857142857142857] [-4.0, -2.0] [-0.6666666666666666, -1.3333333333333333]\n",
            "Cluster 1 SSE:  [67.42857143]\n",
            "Cluster 2 SSE:  [0.]\n",
            "Cluster 3 SSE:  [3.33333333]\n",
            "Total Error  :  [70.76190476]\n"
          ]
        }
      ]
    },
    {
      "cell_type": "code",
      "metadata": {
        "colab": {
          "base_uri": "https://localhost:8080/"
        },
        "id": "98T69YGMPMyD",
        "outputId": "d3f8e348-15c5-4ee1-db5b-1653fd6311f7"
      },
      "source": [
        "# SSE for Complete Link cluster\n",
        "cluster_1 = df.iloc[[0,4,7,8,10]] #AEHIK\n",
        "cluster_2 = df.iloc[[1,2,6]] # BCG\n",
        "cluster_3 = df.iloc[[3,5,9]] #DFJ\n",
        "\n",
        "cent_1 = find_centroid(cluster_1)\n",
        "cent_2 = find_centroid(cluster_2)\n",
        "cent_3 = find_centroid(cluster_3)\n",
        "\n",
        "print(cent_1,cent_2,cent_3)\n",
        "\n",
        "print(\"Cluster 1 SSE: \", SSE(cluster_1,cent_1))\n",
        "print(\"Cluster 2 SSE: \", SSE(cluster_2,cent_2))\n",
        "print(\"Cluster 3 SSE: \", SSE(cluster_3,cent_3))\n",
        "\n",
        "print(\"Total Error  : \", SSE(cluster_1,cent_1) + SSE(cluster_2,cent_2) + SSE(cluster_3,cent_3))"
      ],
      "execution_count": 73,
      "outputs": [
        {
          "output_type": "stream",
          "name": "stdout",
          "text": [
            "[-7.6, -2.0] [-5.0, 2.0] [-0.6666666666666666, -1.3333333333333333]\n",
            "Cluster 1 SSE:  [31.2]\n",
            "Cluster 2 SSE:  [4.]\n",
            "Cluster 3 SSE:  [3.33333333]\n",
            "Total Error  :  [38.53333333]\n"
          ]
        }
      ]
    }
  ]
}